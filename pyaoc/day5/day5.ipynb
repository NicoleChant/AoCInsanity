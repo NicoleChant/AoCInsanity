{
 "cells": [
  {
   "cell_type": "code",
   "execution_count": 279,
   "metadata": {},
   "outputs": [],
   "source": [
    "import pandas as pd\n",
    "import numpy as np"
   ]
  },
  {
   "cell_type": "code",
   "execution_count": 280,
   "metadata": {},
   "outputs": [],
   "source": [
    "with open('input.txt') as f:\n",
    "    data = f.read().splitlines()\n"
   ]
  },
  {
   "cell_type": "code",
   "execution_count": 281,
   "metadata": {},
   "outputs": [],
   "source": [
    "stack = data[:8]\n",
    "stack =  [each+' '* (35- len(each)) if len(each)!=35 else each for each in stack ]\n",
    "instructions = data[10:]\n",
    "def get_number_of_string(string):\n",
    "    string = [each for each in string if each.isnumeric()]\n",
    "    if len(string)>3:\n",
    "        number = f'{string[0]}{string[1]}'\n",
    "        return [number, string[2], string[3]]\n",
    "    return string\n",
    "instructions = [get_number_of_string(each) for each in instructions]"
   ]
  },
  {
   "cell_type": "code",
   "execution_count": 282,
   "metadata": {},
   "outputs": [],
   "source": [
    "def chunks(lst, n):\n",
    "    for i in range(0, len(lst), n):\n",
    "        yield lst[i:i + n].replace(' ','')\n",
    "stack_list = [list(chunks(each, 4)) for each in stack]\n",
    "df = pd.DataFrame(stack_list).replace('', np.nan)\n",
    "\n",
    "stack_list = [list(df[each].dropna()) for each in df.columns]\n",
    "stack_list = [each[::-1] for each in stack_list]\n",
    "\n",
    "def Elves_Executors(full_stack, first,second,third):\n",
    "    first, second, third = int(first), int(second)-1, int(third)-1\n",
    "    ElveLoadsFrom = full_stack[second]\n",
    "    ElveLoadsTo = full_stack[third]\n",
    "    ElveLoadsMuch = first\n",
    "    \n",
    "    extension = ElveLoadsFrom[-ElveLoadsMuch:]\n",
    "    ElveLoadsTo.extend(extension)\n",
    "    full_stack[third] = ElveLoadsTo\n",
    "    \n",
    "    full_stack[second] = ElveLoadsFrom[:-ElveLoadsMuch]\n",
    "    return full_stack"
   ]
  },
  {
   "cell_type": "code",
   "execution_count": 283,
   "metadata": {},
   "outputs": [],
   "source": [
    "for each in instructions:\n",
    "    stack_list = Elves_Executors(stack_list, each[0], each[1], each[2])\n"
   ]
  },
  {
   "cell_type": "code",
   "execution_count": 284,
   "metadata": {},
   "outputs": [
    {
     "name": "stdout",
     "output_type": "stream",
     "text": [
      "[C]\n",
      "[N]\n",
      "[S]\n",
      "[C]\n",
      "[Z]\n",
      "[W]\n",
      "[L]\n",
      "[V]\n",
      "[T]\n"
     ]
    }
   ],
   "source": [
    "for each in stack_list:\n",
    "    print(each[-1])"
   ]
  },
  {
   "cell_type": "code",
   "execution_count": 278,
   "metadata": {},
   "outputs": [],
   "source": [
    "stack_list = Elves_Executors(stack_list, instructions[0][0], instructions[0][1], instructions[0][2])\n",
    "stack_list = Elves_Executors(stack_list, instructions[1][0], instructions[1][1], instructions[1][2])"
   ]
  }
 ],
 "metadata": {
  "kernelspec": {
   "display_name": "Python 3.8.12 64-bit ('shims')",
   "language": "python",
   "name": "python3"
  },
  "language_info": {
   "codemirror_mode": {
    "name": "ipython",
    "version": 3
   },
   "file_extension": ".py",
   "mimetype": "text/x-python",
   "name": "python",
   "nbconvert_exporter": "python",
   "pygments_lexer": "ipython3",
   "version": "3.8.12"
  },
  "orig_nbformat": 4,
  "vscode": {
   "interpreter": {
    "hash": "211a611e43ffd387bc3358f70c1c5270b1aa46258f0eba691e4a5432226d839e"
   }
  }
 },
 "nbformat": 4,
 "nbformat_minor": 2
}
